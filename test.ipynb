{
 "cells": [
  {
   "cell_type": "code",
   "execution_count": 4,
   "metadata": {},
   "outputs": [],
   "source": [
    "\"\"\"\n",
    "In short, this code takes a JSON file containing information like dates, times, titles, etc.\n",
    ", and reformats it into a new, more organized JSON file. \n",
    "It extracts specific details, converts timestamps to readable formats, \n",
    "and groups the information into categories within the final JSON output to be run in flaskapp.py\n",
    "\"\"\"\n",
    "\n",
    "from datetime import datetime\n",
    "import json\n",
    "\n",
    "path = \"/home/mhmdghdbn/airflow/zookeeper/airflow/data/processed_data_1.json\"\n",
    "\n",
    "with open(path, 'r') as file:\n",
    "    original_data = json.load(file)\n",
    "\n",
    "# Initialize dictionaries for each field\n",
    "date_dict = {}\n",
    "time_dict = {}\n",
    "title_dict = {}\n",
    "message_dict = {}\n",
    "city_dict = {}\n",
    "video_dict = {}\n",
    "summary_dict = {}\n",
    "latitude_dict = {}\n",
    "longitude_dict = {}\n",
    "\n",
    "# Extracting relevant information from original_data\n",
    "for idx, entry in enumerate(original_data):\n",
    "    timestamp_ms_date = entry[\"date\"]\n",
    "    timestamp_ms_time = entry[\"time\"]\n",
    "    timestamp_date = datetime.fromtimestamp(timestamp_ms_date / 1000)\n",
    "    timestamp_time = datetime.fromtimestamp(timestamp_ms_time / 1000)\n",
    "    formatted_time = timestamp_time.strftime(\"%H:%M:%S\")\n",
    "    formatted_date = timestamp_date.strftime(\"%Y-%m-%d\")\n",
    "    \n",
    "    # Populate dictionaries with data\n",
    "    time_dict[str(idx)] = formatted_time\n",
    "    date_dict[str(idx)] = formatted_date\n",
    "    title_dict[str(idx)] = entry['title']\n",
    "    message_dict[str(idx)] = entry['messages']\n",
    "    city_dict[str(idx)] = entry['city_result']\n",
    "    video_dict[str(idx)] = entry['video_links']\n",
    "    summary_dict[str(idx)] = entry['summarized']\n",
    "    latitude_dict[str(idx)] = entry['latitude']\n",
    "    longitude_dict[str(idx)] = entry['longitude']\n",
    "\n",
    "# Create the output dictionary as per the required format\n",
    "output_data = {\n",
    "    \"date\": date_dict,\n",
    "    \"time\": time_dict,\n",
    "    \"title\": title_dict,\n",
    "    \"message\": message_dict,\n",
    "    \"city\": city_dict,\n",
    "    \"video\": video_dict,\n",
    "    \"summary\": summary_dict,\n",
    "    \"latitude\": latitude_dict,\n",
    "    \"longitude\": longitude_dict\n",
    "}\n",
    "\n",
    "# Convert the output dictionary to JSON format\n",
    "output_json = json.dumps(output_data, indent=4)\n",
    "\n",
    "with open(\"test.json\", 'w') as file:\n",
    "    file.write(output_json)\n"
   ]
  },
  {
   "cell_type": "code",
   "execution_count": null,
   "metadata": {},
   "outputs": [],
   "source": [
    "\n"
   ]
  }
 ],
 "metadata": {
  "kernelspec": {
   "display_name": "kafka-env",
   "language": "python",
   "name": "python3"
  },
  "language_info": {
   "codemirror_mode": {
    "name": "ipython",
    "version": 3
   },
   "file_extension": ".py",
   "mimetype": "text/x-python",
   "name": "python",
   "nbconvert_exporter": "python",
   "pygments_lexer": "ipython3",
   "version": "3.10.12"
  }
 },
 "nbformat": 4,
 "nbformat_minor": 2
}
